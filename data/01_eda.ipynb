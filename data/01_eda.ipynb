import pandas as pd
import matplotlib.pyplot as plt
import seaborn as sns

# Load data
df = pd.read_csv('data/complaints.csv')

# Check the structure of the data
print(df.shape)
print(df.head())

# Check for missing values
print(df.isnull().sum())

# Check the distribution of product types
sns.countplot(x='product', data=df)
plt.xticks(rotation=90)
plt.title('Distribution of Product Types')
plt.show()

# Check the distribution of complaint text lengths
df['text_length'] = df['consumer_complaint_narrative'].str.len()
sns.histplot(x='text_length', data=df, bins=50)
plt.title('Distribution of Complaint Text Lengths')
plt.show()
