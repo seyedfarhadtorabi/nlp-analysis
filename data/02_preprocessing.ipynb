{
 "cells": [
  {
   "cell_type": "code",
   "execution_count": null,
   "metadata": {},
   "outputs": [],
   "source": [
    "import pandas as pd\n",
    "import re\n",
    "import string\n",
    "import nltk\n",
    "from nltk.tokenize import word_tokenize\n",
    "from nltk.corpus import stopwords\n",
    "import spacy\n",
    "\n",
    "# Load data\n",
    "df = pd.read_csv('data/complaints.csv')\n",
    "\n",
    "# Remove missing values\n",
    "df.dropna(subset=['consumer_complaint_narrative'], inplace=True)\n",
    "\n",
    "# Define functions for text cleaning and tokenization\n",
    "def clean_text(text):\n",
    "    # Remove punctuation\n",
    "    text = text.translate(str.maketrans('', '', string.punctuation))\n",
    "    # Convert to lowercase\n",
    "    text = text.lower()\n",
    "    # Remove numbers\n",
    "    text = re.sub(r'\\d+', '', text)\n",
    "    # Remove stopwords\n",
    "    stop_words = set(stopwords.words('english'))\n",
    "    words = word_tokenize(text)\n",
    "    filtered_words = [word for word in words if word.casefold() not in stop_words]\n",
    "    # Lemmatize using spaCy\n",
    "    nlp = spacy.load('en_core_web_sm')\n",
    "    doc = nlp(' '.join(filtered_words))\n",
    "    lemmatized_words = [token.lemma_ for token in doc]\n",
    "    return ' '.join(lemmatized_words)\n",
    "\n",
    "# Apply text cleaning and tokenization to complaint text\n",
    "df['clean_text'] = df['consumer_complaint_narrative'].apply(clean_text)\n",
    "\n",
    "# Save cleaned data to file\n",
    "df.to_csv('data/complaints_clean.csv', index=False)\n"
   ]
  }
 ],
 "metadata": {
  "language_info": {
   "name": "python"
  },
  "orig_nbformat": 4
 },
 "nbformat": 4,
 "nbformat_minor": 2
}
