{
 "cells": [
  {
   "cell_type": "code",
   "execution_count": null,
   "metadata": {},
   "outputs": [],
   "source": [
    "import pandas as pd\n",
    "from sklearn.decomposition import NMF, LatentDirichletAllocation\n",
    "import pyLDAvis.sklearn\n",
    "import matplotlib.pyplot as plt\n",
    "from wordcloud import WordCloud\n",
    "\n",
    "# Load vectorized data\n",
    "bow_vector = pd.read_csv('data/bow_vector.csv').to_numpy()\n",
    "tfidf_vector = pd.read_csv('data/tfidf_vector.csv').to_numpy()\n",
    "\n",
    "# Define function to extract topics using Non-negative Matrix Factorization (NMF)\n",
    "def extract_topics_nmf(vector, vectorizer):\n",
    "    nmf = NMF(n_components=10, random_state=42)\n",
    "    nmf.fit(vector)\n",
    "    feature_names = vectorizer.get_feature_names()\n",
    "    for idx, topic in enumerate(nmf.components_):\n",
    "        print(f'Topic #{idx}:')\n",
    "        print([feature_names[i] for i in topic.argsort()[:-11:-1]])\n",
    "\n",
    "# Define function to extract topics using Latent Dirichlet Allocation (LDA)\n",
    "def extract_topics_lda(vector, vectorizer):\n",
    "    lda = LatentDirichletAllocation(n_components=10, random_state=42)\n",
    "    lda.fit(vector)\n",
    "    feature_names = vectorizer.get_feature_names()\n",
    "    for idx, topic in enumerate(lda.components_):\n",
    "        print(f'Topic #{idx}:')\n",
    "        print([feature_names[i] for i in topic.argsort()[:-11:-1]])\n",
    "    \n",
    "# Extract topics using NMF and BoW vector\n",
    "extract_topics_nmf(bow_vector, bow_vectorizer)\n",
    "\n",
    "# Extract topics using LDA and TF-IDF vector\n",
    "extract_topics_lda(tfidf_vector, tfidf_vectorizer)\n",
    "\n",
    "# Generate word cloud of the most common words in the corpus\n",
    "wordcloud = WordCloud(width=800, height=400, background_color='white').generate(' '.join(df['clean_text']))\n",
    "plt.figure(figsize=(10, 5))\n",
    "plt.imshow(wordcloud)\n",
    "plt.axis('off')\n",
    "plt.show()\n",
    "\n",
    "# Visualize topics using pyLDAvis\n",
    "pyLDAvis.enable_notebook()\n",
    "pyLDAvis.sklearn.prepare(lda, tfidf_vector, tfidf_vectorizer)\n"
   ]
  }
 ],
 "metadata": {
  "language_info": {
   "name": "python"
  },
  "orig_nbformat": 4
 },
 "nbformat": 4,
 "nbformat_minor": 2
}
